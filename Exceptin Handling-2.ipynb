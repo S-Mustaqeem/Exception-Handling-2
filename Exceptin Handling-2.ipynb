{
 "cells": [
  {
   "cell_type": "markdown",
   "id": "2268a927-2fc5-40f2-955a-96d920946890",
   "metadata": {},
   "source": [
    "Q1. Explain why we have to use the Exception class while creating a Custom Exception.\n"
   ]
  },
  {
   "cell_type": "markdown",
   "id": "9bde05ef-0216-4c9b-906e-9095f0923129",
   "metadata": {},
   "source": [
    "ANS: Using the Exception class as the base for custom exceptions provides consistency, compatibility, and better code organization in error handling. It allows catch-all capability, polymorphism, and ensures your custom exception is treated as a general exception type."
   ]
  },
  {
   "cell_type": "markdown",
   "id": "30b2a400-fcb0-4df9-a9ec-a2ce86572629",
   "metadata": {},
   "source": [
    "<br>Q2. Write a python program to print Python Exception Hierarchy.\n"
   ]
  },
  {
   "cell_type": "code",
   "execution_count": 1,
   "id": "654ca888-5cd2-4127-8110-b33c54eb2538",
   "metadata": {},
   "outputs": [
    {
     "name": "stdout",
     "output_type": "stream",
     "text": [
      "Python Exception Hierarchy:\n",
      "BaseException\n",
      "  Exception\n",
      "    TypeError\n",
      "      FloatOperation\n",
      "      MultipartConversionError\n",
      "    StopAsyncIteration\n",
      "    StopIteration\n",
      "    ImportError\n",
      "      ModuleNotFoundError\n",
      "      ZipImportError\n",
      "    OSError\n",
      "      ConnectionError\n",
      "        BrokenPipeError\n",
      "        ConnectionAbortedError\n",
      "        ConnectionRefusedError\n",
      "        ConnectionResetError\n",
      "          RemoteDisconnected\n",
      "      BlockingIOError\n",
      "      ChildProcessError\n",
      "      FileExistsError\n",
      "      FileNotFoundError\n",
      "      IsADirectoryError\n",
      "      NotADirectoryError\n",
      "      InterruptedError\n",
      "        InterruptedSystemCall\n",
      "      PermissionError\n",
      "      ProcessLookupError\n",
      "      TimeoutError\n",
      "      UnsupportedOperation\n",
      "      itimer_error\n",
      "      herror\n",
      "      gaierror\n",
      "      SSLError\n",
      "        SSLCertVerificationError\n",
      "        SSLZeroReturnError\n",
      "        SSLWantWriteError\n",
      "        SSLWantReadError\n",
      "        SSLSyscallError\n",
      "        SSLEOFError\n",
      "      Error\n",
      "        SameFileError\n",
      "      SpecialFileError\n",
      "      ExecError\n",
      "      ReadError\n",
      "      URLError\n",
      "        HTTPError\n",
      "        ContentTooShortError\n",
      "      BadGzipFile\n",
      "    EOFError\n",
      "      IncompleteReadError\n",
      "    RuntimeError\n",
      "      RecursionError\n",
      "      NotImplementedError\n",
      "        ZMQVersionError\n",
      "        StdinNotImplementedError\n",
      "      _DeadlockError\n",
      "      BrokenBarrierError\n",
      "      BrokenExecutor\n",
      "        BrokenThreadPool\n",
      "      SendfileNotAvailableError\n",
      "      ExtractionError\n",
      "      VariableError\n",
      "    NameError\n",
      "      UnboundLocalError\n",
      "    AttributeError\n",
      "      FrozenInstanceError\n",
      "    SyntaxError\n",
      "      IndentationError\n",
      "        TabError\n",
      "    LookupError\n",
      "      IndexError\n",
      "      KeyError\n",
      "        NoSuchKernel\n",
      "        UnknownBackend\n",
      "      CodecRegistryError\n",
      "    ValueError\n",
      "      UnicodeError\n",
      "        UnicodeEncodeError\n",
      "        UnicodeDecodeError\n",
      "        UnicodeTranslateError\n",
      "      UnsupportedOperation\n",
      "      JSONDecodeError\n",
      "      SSLCertVerificationError\n",
      "      Error\n",
      "      UnsupportedDigestmodError\n",
      "      IllegalMonthError\n",
      "      IllegalWeekdayError\n",
      "      ParserError\n",
      "      ClassNotFound\n",
      "      ClipboardEmpty\n",
      "      MessageDefect\n",
      "        NoBoundaryInMultipartDefect\n",
      "        StartBoundaryNotFoundDefect\n",
      "        CloseBoundaryNotFoundDefect\n",
      "        FirstHeaderLineIsContinuationDefect\n",
      "        MisplacedEnvelopeHeaderDefect\n",
      "        MissingHeaderBodySeparatorDefect\n",
      "        MultipartInvariantViolationDefect\n",
      "        InvalidMultipartContentTransferEncodingDefect\n",
      "        UndecodableBytesDefect\n",
      "        InvalidBase64PaddingDefect\n",
      "        InvalidBase64CharactersDefect\n",
      "        InvalidBase64LengthDefect\n",
      "        HeaderDefect\n",
      "          InvalidHeaderDefect\n",
      "          HeaderMissingRequiredValue\n",
      "          NonPrintableDefect\n",
      "          ObsoleteHeaderDefect\n",
      "          NonASCIILocalPartDefect\n",
      "          InvalidDateDefect\n",
      "      MacroToEdit\n",
      "      InvalidFileException\n",
      "      UnequalIterablesError\n",
      "      InvalidVersion\n",
      "      _InvalidELFFileHeader\n",
      "      InvalidWheelFilename\n",
      "      InvalidSdistFilename\n",
      "      InvalidSpecifier\n",
      "      InvalidMarker\n",
      "      UndefinedComparison\n",
      "      UndefinedEnvironmentName\n",
      "      InvalidRequirement\n",
      "        RequirementParseError\n",
      "      InvalidVersion\n",
      "    AssertionError\n",
      "    ArithmeticError\n",
      "      FloatingPointError\n",
      "      OverflowError\n",
      "      ZeroDivisionError\n",
      "        DivisionByZero\n",
      "        DivisionUndefined\n",
      "      DecimalException\n",
      "        Clamped\n",
      "        Rounded\n",
      "          Underflow\n",
      "          Overflow\n",
      "        Inexact\n",
      "          Underflow\n",
      "          Overflow\n",
      "        Subnormal\n",
      "          Underflow\n",
      "        DivisionByZero\n",
      "        FloatOperation\n",
      "        InvalidOperation\n",
      "          ConversionSyntax\n",
      "          DivisionImpossible\n",
      "          DivisionUndefined\n",
      "          InvalidContext\n",
      "    SystemError\n",
      "      CodecRegistryError\n",
      "    ReferenceError\n",
      "    MemoryError\n",
      "    BufferError\n",
      "    Warning\n",
      "      UserWarning\n",
      "        GetPassWarning\n",
      "        FormatterWarning\n",
      "      EncodingWarning\n",
      "      DeprecationWarning\n",
      "        ProvisionalWarning\n",
      "      PendingDeprecationWarning\n",
      "      SyntaxWarning\n",
      "      RuntimeWarning\n",
      "        ProactorSelectorThreadWarning\n",
      "        UnknownTimezoneWarning\n",
      "        PEP440Warning\n",
      "      FutureWarning\n",
      "        ProvisionalCompleterWarning\n",
      "      ImportWarning\n",
      "      UnicodeWarning\n",
      "      BytesWarning\n",
      "      ResourceWarning\n",
      "      DeprecatedTzFormatWarning\n",
      "      PkgResourcesDeprecationWarning\n",
      "    _OptionError\n",
      "    _Error\n",
      "    error\n",
      "    Verbose\n",
      "    Error\n",
      "    SubprocessError\n",
      "      CalledProcessError\n",
      "      TimeoutExpired\n",
      "    TokenError\n",
      "    StopTokenizing\n",
      "    ClassFoundException\n",
      "    EndOfBlock\n",
      "    TraitError\n",
      "    Error\n",
      "    Error\n",
      "      CancelledError\n",
      "      TimeoutError\n",
      "      InvalidStateError\n",
      "    _GiveupOnSendfile\n",
      "    error\n",
      "    Incomplete\n",
      "    TimeoutError\n",
      "    InvalidStateError\n",
      "    LimitOverrunError\n",
      "    QueueEmpty\n",
      "    QueueFull\n",
      "    Empty\n",
      "    Full\n",
      "    ArgumentError\n",
      "    ZMQBaseError\n",
      "      ZMQError\n",
      "        ContextTerminated\n",
      "        Again\n",
      "        InterruptedSystemCall\n",
      "      ZMQBindError\n",
      "      NotDone\n",
      "    PickleError\n",
      "      PicklingError\n",
      "      UnpicklingError\n",
      "    _Stop\n",
      "    ArgumentError\n",
      "    ArgumentTypeError\n",
      "    ConfigError\n",
      "      ConfigLoaderError\n",
      "        ArgumentError\n",
      "      ConfigFileNotFound\n",
      "    ConfigurableError\n",
      "      MultipleInstanceError\n",
      "    ApplicationError\n",
      "    error\n",
      "    TimeoutError\n",
      "    error\n",
      "    ReturnValueIgnoredError\n",
      "    KeyReuseError\n",
      "    UnknownKeyError\n",
      "    LeakedCallbackError\n",
      "    BadYieldError\n",
      "    ReturnValueIgnoredError\n",
      "    Return\n",
      "    InvalidPortNumber\n",
      "    error\n",
      "    LZMAError\n",
      "    RegistryError\n",
      "    _GiveupOnFastCopy\n",
      "    Error\n",
      "      NoSectionError\n",
      "      DuplicateSectionError\n",
      "      DuplicateOptionError\n",
      "      NoOptionError\n",
      "      InterpolationError\n",
      "        InterpolationMissingOptionError\n",
      "        InterpolationSyntaxError\n",
      "        InterpolationDepthError\n",
      "      ParsingError\n",
      "        MissingSectionHeaderError\n",
      "    NoIPAddresses\n",
      "    BadZipFile\n",
      "    LargeZipFile\n",
      "    BadEntryPoint\n",
      "    NoSuchEntryPoint\n",
      "    DuplicateKernelError\n",
      "    ErrorDuringImport\n",
      "    NotOneValueFound\n",
      "    CannotEval\n",
      "    OptionError\n",
      "    BdbQuit\n",
      "    Restart\n",
      "    ExceptionPexpect\n",
      "      EOF\n",
      "      TIMEOUT\n",
      "    PtyProcessError\n",
      "    FindCmdError\n",
      "    HomeDirError\n",
      "    ProfileDirError\n",
      "    IPythonCoreError\n",
      "      TryNext\n",
      "      UsageError\n",
      "      StdinNotImplementedError\n",
      "    InputRejected\n",
      "    GetoptError\n",
      "    ErrorToken\n",
      "    PrefilterError\n",
      "    AliasError\n",
      "      InvalidAliasError\n",
      "    Error\n",
      "      InterfaceError\n",
      "      DatabaseError\n",
      "        InternalError\n",
      "        OperationalError\n",
      "        ProgrammingError\n",
      "        IntegrityError\n",
      "        DataError\n",
      "        NotSupportedError\n",
      "    Warning\n",
      "    SpaceInInput\n",
      "    DOMException\n",
      "      IndexSizeErr\n",
      "      DomstringSizeErr\n",
      "      HierarchyRequestErr\n",
      "      WrongDocumentErr\n",
      "      InvalidCharacterErr\n",
      "      NoDataAllowedErr\n",
      "      NoModificationAllowedErr\n",
      "      NotFoundErr\n",
      "      NotSupportedErr\n",
      "      InuseAttributeErr\n",
      "      InvalidStateErr\n",
      "      SyntaxErr\n",
      "      InvalidModificationErr\n",
      "      NamespaceErr\n",
      "      InvalidAccessErr\n",
      "      ValidationErr\n",
      "    ValidationError\n",
      "    EditReadOnlyBuffer\n",
      "    _Retry\n",
      "    InvalidLayoutError\n",
      "    HeightIsUnknownError\n",
      "    ParserSyntaxError\n",
      "    InternalParseError\n",
      "    _PositionUpdatingFinished\n",
      "    SimpleGetItemNotFound\n",
      "    UncaughtAttributeError\n",
      "    HasNoContext\n",
      "    ParamIssue\n",
      "    _JediError\n",
      "      InternalError\n",
      "      WrongVersion\n",
      "      RefactoringError\n",
      "    OnErrorLeaf\n",
      "    InvalidPythonEnvironment\n",
      "    MessageError\n",
      "      MessageParseError\n",
      "        HeaderParseError\n",
      "        BoundaryError\n",
      "      MultipartConversionError\n",
      "      CharsetError\n",
      "    Error\n",
      "    HTTPException\n",
      "      NotConnected\n",
      "      InvalidURL\n",
      "      UnknownProtocol\n",
      "      UnknownTransferEncoding\n",
      "      UnimplementedFileMode\n",
      "      IncompleteRead\n",
      "      ImproperConnectionState\n",
      "        CannotSendRequest\n",
      "        CannotSendHeader\n",
      "        ResponseNotReady\n",
      "      BadStatusLine\n",
      "        RemoteDisconnected\n",
      "      LineTooLong\n",
      "    InteractivelyDefined\n",
      "    KillEmbedded\n",
      "    Error\n",
      "      NoSuchProcess\n",
      "        ZombieProcess\n",
      "      AccessDenied\n",
      "      TimeoutExpired\n",
      "    _Ipv6UnsupportedError\n",
      "    QueueEmpty\n",
      "    QueueFull\n",
      "    DebuggerInitializationError\n",
      "    ExpatError\n",
      "    Error\n",
      "      ProtocolError\n",
      "      ResponseError\n",
      "      Fault\n",
      "    ParseBaseException\n",
      "      ParseException\n",
      "      ParseFatalException\n",
      "        ParseSyntaxException\n",
      "    RecursiveGrammarException\n",
      "    ResolutionError\n",
      "      VersionConflict\n",
      "        ContextualVersionConflict\n",
      "      DistributionNotFound\n",
      "      UnknownExtra\n",
      "    _Error\n",
      "    UnableToResolveVariableException\n",
      "    InvalidTypeInArgsException\n",
      "  GeneratorExit\n",
      "  SystemExit\n",
      "  KeyboardInterrupt\n",
      "  CancelledError\n",
      "  AbortThread\n"
     ]
    }
   ],
   "source": [
    "def print_exception_hierarchy(exception_class, indent=0):\n",
    "    print(\"  \" * indent + f\"{exception_class.__name__}\")\n",
    "    for subclass in exception_class.__subclasses__():\n",
    "        print_exception_hierarchy(subclass, indent + 1)\n",
    "\n",
    "print(\"Python Exception Hierarchy:\")\n",
    "print_exception_hierarchy(BaseException)\n"
   ]
  },
  {
   "cell_type": "markdown",
   "id": "1d9c7de2-755f-4304-86c5-5733cbd68e08",
   "metadata": {},
   "source": [
    "<br>Q3. What errors are defined in the ArithmeticError class? Explain any two with an example.\n"
   ]
  },
  {
   "cell_type": "markdown",
   "id": "673493bf-427e-4e18-98d0-16b66513ed62",
   "metadata": {},
   "source": [
    "in ArithneticError there are many error are defines such as following:<br>\n",
    "ArithmeticError:<br>\n",
    "      0.FloatingPointError:<br>\n",
    "      1.OverflowError:<br>\n",
    "      2.ZeroDivisionError:<br>\n",
    "        DivisionByZero<br>\n",
    "        DivisionUndefined<br>\n",
    "      3.DecimalException:<br>\n",
    "        Clamped<br>\n",
    "        Rounded<br>\n",
    "          Underflow<br>\n",
    "          Overflow<br>\n",
    "        4.Inexact:<br>\n",
    "          Underflow<br>\n",
    "          Overflow<br>\n",
    "        5.Subnormal:<br>\n",
    "          Underflow<br>\n",
    "        6.DivisionByZero:<br>\n",
    "        7.FloatOperation:<br>\n",
    "        8.InvalidOperation:<br>\n",
    "          ConversionSyntax<br>\n",
    "          DivisionImpossible<br>\n",
    "          DivisionUndefined<br>\n",
    "          InvalidContext<br>"
   ]
  },
  {
   "cell_type": "code",
   "execution_count": 3,
   "id": "8d0fb427-ff03-4b1d-af07-357e68209c20",
   "metadata": {},
   "outputs": [
    {
     "name": "stdout",
     "output_type": "stream",
     "text": [
      "Error: can't divide with ZERO\n"
     ]
    }
   ],
   "source": [
    "#Example 1: ZeroDivisionError\n",
    "def divide_number(a,b):\n",
    "    try:\n",
    "        return a/b\n",
    "        \n",
    "    except ZeroDivisionError as e:\n",
    "        print(f\"Error: can't divide with ZERO\")\n",
    "numerator= 10\n",
    "dinominator = 0\n",
    "result= divide_number(numerator,dinominator)"
   ]
  },
  {
   "cell_type": "code",
   "execution_count": 16,
   "id": "1d4cddbd-af47-43d9-b942-e261600b90b1",
   "metadata": {},
   "outputs": [
    {
     "name": "stdout",
     "output_type": "stream",
     "text": [
      "Error: too big Number\n"
     ]
    }
   ],
   "source": [
    "#Example 2: ValueError\n",
    "def largest_number(a,b):\n",
    "    try :\n",
    "        print (a**b)\n",
    "    except ValueError as e:\n",
    "        print(\"Error: too big Number\")\n",
    "        \n",
    "reslt= largest_number(10,1000000)"
   ]
  },
  {
   "cell_type": "markdown",
   "id": "860ad8bb-aa88-4a2d-86ae-c5c0dfcb578f",
   "metadata": {},
   "source": [
    "Q4. Why LookupError class is used? Explain with an example KeyError and IndexError.\n"
   ]
  },
  {
   "cell_type": "markdown",
   "id": "27540fbe-2872-4e64-962e-466566017d89",
   "metadata": {},
   "source": [
    "Ans: LookupError class is exeption class in python used to show error's when we type unavailable index or invalid key.<br>\"KeyError\" and \"IndexError\" are subclasses of LookupError."
   ]
  },
  {
   "cell_type": "code",
   "execution_count": 5,
   "id": "1e3fc1a2-0ee3-492d-9611-0f0cc2fd15fa",
   "metadata": {},
   "outputs": [
    {
     "name": "stdout",
     "output_type": "stream",
     "text": [
      "a\n"
     ]
    }
   ],
   "source": [
    "#KeyError Example\n",
    "dic={\"first angle of triangle\": \"a\",\"second angle of triangle\":\"b\",\"third angle of triangle\":\"c\"}\n",
    "#if we call first angle of triangle then\n",
    "print(dic[\"first angle of triangle\"])"
   ]
  },
  {
   "cell_type": "code",
   "execution_count": 6,
   "id": "5223f0d0-d208-494b-b1a4-8110fdac7fcb",
   "metadata": {},
   "outputs": [
    {
     "ename": "KeyError",
     "evalue": "'fourth angle of triangle'",
     "output_type": "error",
     "traceback": [
      "\u001b[0;31m---------------------------------------------------------------------------\u001b[0m",
      "\u001b[0;31mKeyError\u001b[0m                                  Traceback (most recent call last)",
      "Cell \u001b[0;32mIn[6], line 3\u001b[0m\n\u001b[1;32m      1\u001b[0m \u001b[38;5;66;03m#we know that Triangle only have three Angles.\u001b[39;00m\n\u001b[1;32m      2\u001b[0m \u001b[38;5;66;03m#if we call fourth angle of triangle then.\u001b[39;00m\n\u001b[0;32m----> 3\u001b[0m \u001b[38;5;28mprint\u001b[39m(\u001b[43mdic\u001b[49m\u001b[43m[\u001b[49m\u001b[38;5;124;43m\"\u001b[39;49m\u001b[38;5;124;43mfourth angle of triangle\u001b[39;49m\u001b[38;5;124;43m\"\u001b[39;49m\u001b[43m]\u001b[49m)\n",
      "\u001b[0;31mKeyError\u001b[0m: 'fourth angle of triangle'"
     ]
    }
   ],
   "source": [
    "#we know that Triangle only have three Angles.\n",
    "#if we call fourth angle of triangle then.\n",
    "print(dic[\"fourth angle of triangle\"])"
   ]
  },
  {
   "cell_type": "code",
   "execution_count": 8,
   "id": "6b3bef03-258e-4186-8448-277f97714ee1",
   "metadata": {},
   "outputs": [
    {
     "name": "stdout",
     "output_type": "stream",
     "text": [
      "KeyError occurs here\n"
     ]
    }
   ],
   "source": [
    "#KeyError occered\n",
    "try:\n",
    "    print(dic[\"fourth angle of triangle\"])\n",
    "except KeyError as e :\n",
    "    print(\"KeyError occurs here\")\n",
    "    "
   ]
  },
  {
   "cell_type": "code",
   "execution_count": 9,
   "id": "3a2419bf-96b5-4db0-b527-3153b76ff7d8",
   "metadata": {},
   "outputs": [
    {
     "name": "stdout",
     "output_type": "stream",
     "text": [
      "7\n"
     ]
    }
   ],
   "source": [
    "#now exmple of IndexError\n",
    "l=[1,2,3,4,5,6,7]\n",
    "#if we call index from 0 to 8 its valid because its exist\n",
    "print(l[6])"
   ]
  },
  {
   "cell_type": "code",
   "execution_count": 11,
   "id": "74a3ba14-ab80-4808-9f53-9f42d0c58b28",
   "metadata": {},
   "outputs": [
    {
     "name": "stdout",
     "output_type": "stream",
     "text": [
      "IndexError is occur\n"
     ]
    }
   ],
   "source": [
    "#if we call other than these IndexError will occur.\n",
    "try:\n",
    "    print(l[10])\n",
    "except IndexError :\n",
    "    print(\"IndexError is occur\")"
   ]
  },
  {
   "cell_type": "markdown",
   "id": "2aa298db-ddf3-4ff3-9197-b1831f9e5c89",
   "metadata": {},
   "source": [
    "<br>Q5. Explain ImportError. What is ModuleNotFoundError?\n"
   ]
  },
  {
   "cell_type": "markdown",
   "id": "11715f2a-66b9-4fcf-8cbe-79d3247146b7",
   "metadata": {},
   "source": [
    "Ans: 'ImportError' and 'ModuleNotFoundError' comes when we type a not exist module or library in python.<br> ImportError is a parent class and ModuleNotFoundError is one of the subclass of it."
   ]
  },
  {
   "cell_type": "code",
   "execution_count": 13,
   "id": "4c0b552d-48df-484d-b84f-ac737f583ea9",
   "metadata": {},
   "outputs": [
    {
     "name": "stdout",
     "output_type": "stream",
     "text": [
      "ImportError occurs\n"
     ]
    }
   ],
   "source": [
    "#ImportError Example\n",
    "try:\n",
    "    import panda \n",
    "except ImportError:\n",
    "    print(\"ImportError occurs\")"
   ]
  },
  {
   "cell_type": "code",
   "execution_count": 14,
   "id": "3ee603e8-6900-476c-93c9-28f6b2ee4305",
   "metadata": {},
   "outputs": [
    {
     "name": "stdout",
     "output_type": "stream",
     "text": [
      "ModuleNotFoundError occur\n"
     ]
    }
   ],
   "source": [
    "#ModuleNotFoundError Example\n",
    "try:\n",
    "    import pandas.module \n",
    "except ModuleNotFoundError:\n",
    "    print(\"ModuleNotFoundError occur\")"
   ]
  },
  {
   "cell_type": "markdown",
   "id": "870c688e-9c74-4c2c-8011-7ac3f5ae787b",
   "metadata": {},
   "source": [
    "<br>Q6. List down some best practices for exception handling in python."
   ]
  },
  {
   "cell_type": "markdown",
   "id": "b3a46c5e-2fd6-4185-88fb-421a861169fd",
   "metadata": {},
   "source": [
    "Ans: Exception handling is a process in which we avoid the Errors and our program is Error-free.<br>There are many types of Errors in python and also we can create our error using Exception class."
   ]
  },
  {
   "cell_type": "code",
   "execution_count": 20,
   "id": "555f89f8-aac2-41b6-bff7-cd787485a90f",
   "metadata": {},
   "outputs": [
    {
     "data": {
      "text/plain": [
       "\"Only use Exception when we think here Error can comes, unnecessary we not use exception.\\nsimple way to write exception is write code in try block then handle it in except block.\\nand there are one more option in exception called 'finally', in finally we write a code which always will execute no matter there are error or not in our code.\\nwe can also use the multiple exception in code\""
      ]
     },
     "execution_count": 20,
     "metadata": {},
     "output_type": "execute_result"
    }
   ],
   "source": [
    "#Here are some tips to using exception\n",
    "'''Only use Exception when we think here Error can comes, unnecessary we not use exception.\n",
    "simple way to write exception is write code in try block then handle it in except block.\n",
    "and there are one more option in exception called 'finally', in finally we write a code which always will execute no matter there are error or not in our code.\n",
    "we can also use the multiple exception in code'''"
   ]
  },
  {
   "cell_type": "code",
   "execution_count": 23,
   "id": "2a5f2fbd-f23a-480f-9cab-5aa31d44f5d4",
   "metadata": {},
   "outputs": [
    {
     "name": "stdout",
     "output_type": "stream",
     "text": [
      "First Define a name\n"
     ]
    }
   ],
   "source": [
    "#for example\n",
    "try:\n",
    "    print(Number)\n",
    "    print(int(\"ABC\"))\n",
    "except NameError:\n",
    "    print(\"First Define a name\")\n",
    "except ValueError:\n",
    "    print(\"Cannot covert str into int\")"
   ]
  },
  {
   "cell_type": "code",
   "execution_count": 21,
   "id": "e9c7a5b9-f954-4cdb-9840-5ebbaf18e9e8",
   "metadata": {},
   "outputs": [
    {
     "ename": "NameError",
     "evalue": "name 'hsgfd' is not defined",
     "output_type": "error",
     "traceback": [
      "\u001b[0;31m---------------------------------------------------------------------------\u001b[0m",
      "\u001b[0;31mNameError\u001b[0m                                 Traceback (most recent call last)",
      "Cell \u001b[0;32mIn[21], line 1\u001b[0m\n\u001b[0;32m----> 1\u001b[0m \u001b[38;5;28mprint\u001b[39m(\u001b[43mhsgfd\u001b[49m)\n",
      "\u001b[0;31mNameError\u001b[0m: name 'hsgfd' is not defined"
     ]
    }
   ],
   "source": [
    "try:\n",
    "    "
   ]
  },
  {
   "cell_type": "code",
   "execution_count": null,
   "id": "c2de9fdb-da51-4d32-8f18-2da09cf69049",
   "metadata": {},
   "outputs": [],
   "source": []
  }
 ],
 "metadata": {
  "kernelspec": {
   "display_name": "Python 3 (ipykernel)",
   "language": "python",
   "name": "python3"
  },
  "language_info": {
   "codemirror_mode": {
    "name": "ipython",
    "version": 3
   },
   "file_extension": ".py",
   "mimetype": "text/x-python",
   "name": "python",
   "nbconvert_exporter": "python",
   "pygments_lexer": "ipython3",
   "version": "3.10.8"
  }
 },
 "nbformat": 4,
 "nbformat_minor": 5
}
